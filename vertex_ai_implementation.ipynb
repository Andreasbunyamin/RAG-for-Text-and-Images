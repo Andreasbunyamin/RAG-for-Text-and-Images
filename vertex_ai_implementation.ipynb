{
 "cells": [
  {
   "cell_type": "markdown",
   "id": "eda6337b-5cb8-4f3d-a68c-7151337108f5",
   "metadata": {},
   "source": [
    "# [Google Cloud Vertex AI](https://python.langchain.com/docs/integrations/llms/google_vertex_ai_palm.html)"
   ]
  },
  {
   "cell_type": "code",
   "execution_count": 1,
   "id": "72d24c6a-0036-4e43-b305-9b1c8380f234",
   "metadata": {
    "tags": []
   },
   "outputs": [],
   "source": [
    "from langchain_google_vertexai import VertexAI"
   ]
  },
  {
   "cell_type": "markdown",
   "id": "9a35beac-68e1-4f4d-94ee-7a63c9207df6",
   "metadata": {},
   "source": [
    "### Gemini API (gemini-pro)"
   ]
  },
  {
   "cell_type": "code",
   "execution_count": 2,
   "id": "476f39a6-ffa1-4902-887e-3bc3350a41db",
   "metadata": {
    "tags": []
   },
   "outputs": [],
   "source": [
    "model = VertexAI(model_name=\"gemini-pro\") #import model"
   ]
  },
  {
   "cell_type": "code",
   "execution_count": 3,
   "id": "928a719c-d7b6-4b33-a41d-d6c915cdffd1",
   "metadata": {
    "tags": []
   },
   "outputs": [
    {
     "data": {
      "text/plain": [
       "\"**Pros of Python:**\\n\\n* **Easy to learn:** Python has a simple and intuitive syntax, making it easy for beginners to pick up. Its readability and logical flow enhance code comprehension.\\n* **Versatile:** Python is a general-purpose language suitable for various domains, including web development, data science, machine learning, scripting, and more. Its vast library ecosystem extends its capabilities.\\n* **Open-source and free:** Python is freely available and open-source, so you can use it without paying any fees. It has a large and supportive community that contributes to its development and maintenance.\\n* **Cross-platform:** Python can run on multiple operating systems, including Windows, macOS, and Linux, making it portable and accessible on different platforms.\\n* **Extensive library support:** Python boasts a vast collection of libraries, such as NumPy, pandas, Scikit-learn, and TensorFlow, which provide prewritten functions and modules for various tasks, enhancing productivity and efficiency.\\n* **Strong community:** Python has a vibrant and supportive community of developers who share knowledge, provide assistance, and contribute to its growth. This active community ensures ongoing support and enhancements.\\n\\n**Cons of Python:**\\n\\n* **Interpreted language:** Python is an interpreted language, meaning it executes code line by line, which can be slower than compiled languages like C or C++. It may not be suitable for performance-intensive applications.\\n* **Memory management:** Python's built-in garbage collection handles memory management, which can sometimes lead to performance issues or memory leaks.\\n* **Concurrency limitations:** Python's Global Interpreter Lock (GIL) prevents multiple threads from executing Python code simultaneously, which can limit its performance in multi-threaded applications.\\n* **Lack of type annotations:** Python is a dynamically typed language, meaning variables do not have explicit type declarations. This can lead to runtime errors and make it challenging to maintain large codebases.\\n* **Limited error handling:** Python's error handling mechanisms can be inconsistent, and it can be difficult to gracefully handle exceptions in certain scenarios.\\n* **Security concerns:** Python can be vulnerable to code injection and other security issues due to its dynamic nature and reliance on third-party libraries.\""
      ]
     },
     "execution_count": 3,
     "metadata": {},
     "output_type": "execute_result"
    }
   ],
   "source": [
    "message = \"What are some of the pros and cons of Python as a programming language?\"\n",
    "#message = \"Who is president of indonesia?\"\n",
    "\n",
    "model.invoke(message) #Generate Response"
   ]
  },
  {
   "cell_type": "code",
   "execution_count": 4,
   "id": "6e70d4d9-272f-4f3b-aed4-d0097bf27a41",
   "metadata": {
    "tags": []
   },
   "outputs": [
    {
     "data": {
      "text/plain": [
       "\"**Pros of Python:**\\n\\n* **Beginner-friendly:** Python has a simple and intuitive syntax, making it easy for beginners to learn and use.\\n* **Versatile:** Python is a versatile language suitable for various tasks, including web development, data science, machine learning, scripting, and automation.\\n* **Extensive library support:** Python has a vast ecosystem of libraries that provide additional functionality, such as NumPy, Pandas, and Scikit-learn.\\n* **Interpreted language:** Python is an interpreted language, which means it executes line by line, simplifying debugging and allowing for rapid prototyping.\\n* **Dynamic typing:** Python uses dynamic typing, where data types are inferred at runtime, providing greater flexibility.\\n* **Cross-platform compatibility:** Python can run on multiple operating systems, including Windows, MacOS, Linux, and Unix.\\n\\n**Cons of Python:**\\n\\n* **Computational speed:** Python is generally slower than compiled languages like C or C++, as it requires interpretation at runtime.\\n* **Memory consumption:** Python programs can consume more memory compared to compiled languages, which can be an issue for resource-intensive tasks.\\n* **Global Interpreter Lock (GIL):** The GIL in Python prevents multiple threads from executing simultaneously, potentially limiting performance in multi-threaded applications.\\n* **Limited error handling:** Python's exception handling can be less comprehensive than in other languages, requiring additional effort to manage errors effectively.\\n* **Type annotations:** Python's dynamic typing can sometimes lead to ambiguity, making type annotations necessary to ensure code clarity and prevent errors.\\n* **Code readability:** Python code can become less readable when using advanced features like decorators, comprehensions, and metaclasses.\""
      ]
     },
     "execution_count": 4,
     "metadata": {},
     "output_type": "execute_result"
    }
   ],
   "source": [
    "await model.ainvoke(message) #asynchronous function"
   ]
  },
  {
   "cell_type": "code",
   "execution_count": 5,
   "id": "9f95106c-07db-408c-bf2e-a3c0a3bdd735",
   "metadata": {
    "tags": []
   },
   "outputs": [
    {
     "name": "stdout",
     "output_type": "stream",
     "text": [
      "**Pros:**\n",
      "\n",
      "* **Easy to learn and read:** Python's syntax is straightforward and intuitive, making it relatively easy for beginners to grasp and for experienced programmers to quickly understand.\n",
      "* **Extensive library support:** Python boasts a vast and ever-growing collection of third-party libraries, catering to a wide range of domains, such as data science, machine learning, web development, and scientific computing.\n",
      "* **Versatility:** Python is a general-purpose language that can be used for a broad spectrum of applications, from small scripts to complex enterprise-level systems.\n",
      "* **Portability:** Python is cross-platform, meaning it can run on multiple operating systems (e.g., Windows, macOS, Linux) without any modifications.\n",
      "* **Open source and community-driven:** Python is freely available and supported by a large and active community of developers who contribute to its growth and improvement.\n",
      "\n",
      "**Cons:**\n",
      "\n",
      "* **Slow execution speed:** Compared to compiled languages like C or Java, Python is generally slower due to its interpreted nature.\n",
      "* **Lack of static typing:** Python is a dynamically typed language, which can lead to errors being detected only at runtime.\n",
      "* **GIL (Global Interpreter Lock):** Python's Global Interpreter Lock prevents concurrent execution of threads, potentially limiting performance in multithreaded applications.\n",
      "* **Memory management:** Python handles memory management automatically through its built-in garbage collector, which can sometimes result in unexpected memory usage or performance issues.\n",
      "* **Security considerations:** Python programs can be vulnerable to certain security issues, such as code injection and buffer overflows, due to its dynamic nature."
     ]
    }
   ],
   "source": [
    "for chunk in model.stream(message):\n",
    "    print(chunk, end=\"\", flush=True) #neat output display"
   ]
  },
  {
   "cell_type": "code",
   "execution_count": 6,
   "id": "fe607cb0-87b3-4ef7-bcb9-c5247bfcaed2",
   "metadata": {
    "tags": []
   },
   "outputs": [
    {
     "data": {
      "text/plain": [
       "[\"**Pros:**\\n\\n* **Easy to learn and use:** Python has a simple and intuitive syntax, making it suitable for beginners and experienced programmers alike.\\n* **Versatile:** Python can be used for a wide range of applications, including web development, data analysis, machine learning, and automation.\\n* **Extensible:** Python has a vast ecosystem of libraries and frameworks, allowing developers to extend its functionality and create custom solutions.\\n* **Interpreted:** Python code is executed directly without compilation, making development faster and more efficient.\\n* **Cross-platform:** Python is supported on multiple operating systems, including Windows, macOS, and Linux.\\n\\n**Cons:**\\n\\n* **Speed:** Python can be slower than compiled languages like C++ or Java, especially for computationally intensive tasks.\\n* **Memory usage:** Python programs tend to use more memory than compiled counterparts, which can be a concern for resource-constrained environments.\\n* **Global interpreter lock (GIL):** Python's GIL limits the ability to utilize multiple cores for parallel execution, reducing performance in multi-threaded applications.\\n* **Indentation:** Python uses indentation for code blocks, which can be inconsistent and lead to errors if not followed strictly.\\n* **Lack of strong typing:** Python is a dynamically typed language, which can make it difficult to catch errors during development and may lead to runtime errors.\"]"
      ]
     },
     "execution_count": 6,
     "metadata": {},
     "output_type": "execute_result"
    }
   ],
   "source": [
    "model.batch([message])"
   ]
  },
  {
   "cell_type": "code",
   "execution_count": 7,
   "id": "0bc3a531-3912-4494-b31e-7651089166a6",
   "metadata": {
    "tags": []
   },
   "outputs": [
    {
     "data": {
      "text/plain": [
       "[[GenerationChunk(text=\"**Pros of Python:**\\n\\n* **Easy to learn:** Python is a beginner-friendly language with a simple and readable syntax.\\n* **Versatile:** Python can be used for a wide range of applications, including web development, data science, machine learning, and scripting.\\n* **Extensive library support:** Python has a vast ecosystem of open-source libraries, which provide a wealth of functionality for various tasks.\\n* **Rapid development:** Python's dynamic typing and interpreted nature enable rapid development and prototyping.\\n* **Cross-platform compatibility:** Python programs can run on multiple platforms, including Windows, macOS, Linux, and mobile devices.\\n* **Large community:** Python has a large and active community, providing support, resources, and collaboration opportunities.\\n\\n**Cons of Python:**\\n\\n* **Speed:** Compared to compiled languages like C++ or Java, Python is slower due to its interpreted nature.\\n* **Memory usage:** Python programs can consume more memory than compiled counterparts, especially when handling large datasets.\\n* **GIL (Global Interpreter Lock):** Python uses a GIL, which prevents multiple threads from executing simultaneously, limiting its concurrency for certain tasks.\\n* **Type safety:** Python's dynamic typing can lead to runtime errors if data types are not handled correctly.\\n* **Lack of low-level control:** Python provides limited access to low-level system resources, which can be a disadvantage for some applications.\\n* **Indentation-based syntax:** While it enhances readability, Python relies on indentation for code blocks, which can be prone to errors if not followed consistently.\", generation_info={'is_blocked': False, 'safety_ratings': [{'category': 'HARM_CATEGORY_HATE_SPEECH', 'probability_label': 'NEGLIGIBLE', 'blocked': False}, {'category': 'HARM_CATEGORY_DANGEROUS_CONTENT', 'probability_label': 'NEGLIGIBLE', 'blocked': False}, {'category': 'HARM_CATEGORY_HARASSMENT', 'probability_label': 'NEGLIGIBLE', 'blocked': False}, {'category': 'HARM_CATEGORY_SEXUALLY_EXPLICIT', 'probability_label': 'NEGLIGIBLE', 'blocked': False}], 'citation_metadata': None, 'usage_metadata': {'prompt_token_count': 15, 'candidates_token_count': 322, 'total_token_count': 337}})]]"
      ]
     },
     "execution_count": 7,
     "metadata": {},
     "output_type": "execute_result"
    }
   ],
   "source": [
    "#We can use the generate method to get back extra metadata like safety attributes.\n",
    "\n",
    "result = model.generate([message])\n",
    "result.generations"
   ]
  },
  {
   "cell_type": "code",
   "execution_count": 8,
   "id": "cc6c49ee-7b1a-4a1a-89c9-d26016f906fc",
   "metadata": {
    "tags": []
   },
   "outputs": [
    {
     "data": {
      "text/plain": [
       "[[GenerationChunk(text=\"**Pros of Python:**\\n\\n* **Simplicity and readability:** Python's syntax is designed to be clear and intuitive, making it easy for beginners to learn and experienced programmers to maintain.\\n* **High-level abstraction:** Python provides high-level data structures and libraries that simplify complex tasks, such as working with databases or manipulating data.\\n* **Extensive library support:** Python has a vast ecosystem of open-source libraries that cater to various application domains, including machine learning, data visualization, and web development.\\n* **Cross-platform compatibility:** Python can run on multiple operating systems (Windows, macOS, Linux) without requiring significant changes to the code.\\n* **Interpreted nature:** Python is an interpreted language, allowing for rapid prototyping and quick debugging.\\n* **Dynamic typing:** Python features dynamic typing, which provides flexibility in defining data types during program execution.\\n* **Object-oriented programming:** Python supports object-oriented programming, enabling the creation of modular and reusable code.\\n\\n**Cons of Python:**\\n\\n* **Performance:** Python is generally slower than compiled languages, such as C or Java, especially for computationally intensive tasks.\\n* **Memory consumption:** Python can consume more memory than compiled languages due to its dynamic nature and garbage collection mechanism.\\n* **Concurrency limitations:** Python's Global Interpreter Lock (GIL) can limit the parallel execution of code, affecting performance in multi-threaded applications.\\n* **Limited low-level control:** Python offers less control over low-level system resources and memory management compared to compiled languages.\\n* **Inconsistent data typing:** Dynamic typing can lead to potential type errors and runtime exceptions if not handled properly.\\n* **Security considerations:** Python can be vulnerable to certain security vulnerabilities, such as buffer overflows, if not implemented carefully.\\n* **Lack of static type checking:** Python does not perform static type checking, which can lead to type errors being detected only during runtime.\", generation_info={'is_blocked': False, 'safety_ratings': [{'category': 'HARM_CATEGORY_HATE_SPEECH', 'probability_label': 'NEGLIGIBLE', 'blocked': False}, {'category': 'HARM_CATEGORY_DANGEROUS_CONTENT', 'probability_label': 'NEGLIGIBLE', 'blocked': False}, {'category': 'HARM_CATEGORY_HARASSMENT', 'probability_label': 'NEGLIGIBLE', 'blocked': False}, {'category': 'HARM_CATEGORY_SEXUALLY_EXPLICIT', 'probability_label': 'NEGLIGIBLE', 'blocked': False}], 'citation_metadata': None, 'usage_metadata': {'prompt_token_count': 15, 'candidates_token_count': 391, 'total_token_count': 406}})]]"
      ]
     },
     "execution_count": 8,
     "metadata": {},
     "output_type": "execute_result"
    }
   ],
   "source": [
    "result = await model.agenerate([message])\n",
    "result.generations"
   ]
  },
  {
   "cell_type": "markdown",
   "id": "ff0bdd0c-44d1-47ed-a433-9955e681b9af",
   "metadata": {},
   "source": [
    "### Prompt Template"
   ]
  },
  {
   "cell_type": "code",
   "execution_count": 9,
   "id": "ebdbb812-226d-4f4b-89db-d3cb7b0fc5d0",
   "metadata": {
    "tags": []
   },
   "outputs": [
    {
     "name": "stdout",
     "output_type": "stream",
     "text": [
      "I have five apples.\n",
      "I throw two away.\n",
      "I have five minus two apples.\n",
      "I have three apples.\n",
      "I eat one.\n",
      "I have three minus one apples.\n",
      "I have two apples left.\n",
      "\n",
      "The final answer is 2\n"
     ]
    }
   ],
   "source": [
    "from langchain_core.prompts import PromptTemplate\n",
    "\n",
    "template = \"\"\"Question: {question}\n",
    "\n",
    "Answer: Let's think step by step.\"\"\"\n",
    "prompt = PromptTemplate.from_template(template)\n",
    "\n",
    "chain = prompt | model\n",
    "\n",
    "question = \"\"\"\n",
    "I have five apples. I throw two away. I eat one. How many apples do I have left?\n",
    "\"\"\"\n",
    "print(chain.invoke({\"question\": question}))"
   ]
  },
  {
   "cell_type": "code",
   "execution_count": 14,
   "id": "79a46e3d-4ebb-4577-8f6a-c4394de9f1dc",
   "metadata": {
    "tags": []
   },
   "outputs": [
    {
     "name": "stdout",
     "output_type": "stream",
     "text": [
      "**Answer:**\n",
      "\n",
      "**One pan**\n",
      "\n",
      "**Explanation:**\n",
      "\n",
      "You can boil all five eggs in one pan at the same time.\n"
     ]
    }
   ],
   "source": [
    "question = \"\"\"\n",
    "I have five eggs and five pans. How many pans i should use to boil all of my eggs?\n",
    "\"\"\"\n",
    "print(chain.invoke({\"question\": question}))"
   ]
  },
  {
   "cell_type": "markdown",
   "id": "3bbad986-8c05-425b-95d2-75fda9c4c446",
   "metadata": {},
   "source": [
    "### Codey for Code Generation (code-bison)"
   ]
  },
  {
   "cell_type": "code",
   "execution_count": 10,
   "id": "b7b5ff06-b064-4819-b1ce-d545b01c8f5c",
   "metadata": {
    "tags": []
   },
   "outputs": [
    {
     "name": "stdout",
     "output_type": "stream",
     "text": [
      "```python\n",
      "import re\n",
      "\n",
      "def is_valid_email(email):\n",
      "  \"\"\"\n",
      "  Checks if a string is a valid email address.\n",
      "\n",
      "  Args:\n",
      "    email: The string to check.\n",
      "\n",
      "  Returns:\n",
      "    True if the string is a valid email address, False otherwise.\n",
      "  \"\"\"\n",
      "\n",
      "  # Compile the regular expression.\n",
      "  regex = re.compile(r\"[^@]+@[^@]+\\.[^@]+\")\n",
      "\n",
      "  # Check if the string matches the regular expression.\n",
      "  return regex.match(email) is not None\n",
      "```\n"
     ]
    }
   ],
   "source": [
    "#Codey for Code Generation\n",
    "llm = VertexAI(model_name=\"code-bison\", max_output_tokens=1000, temperature=0.3)\n",
    "question = \"Write a python function that checks if a string is a valid email address\"\n",
    "print(llm.invoke(question))"
   ]
  },
  {
   "cell_type": "markdown",
   "id": "6b389c25-c526-41a1-bbe4-32f83d5e606e",
   "metadata": {},
   "source": [
    "### PaLM 2 for Text (chat-bison)"
   ]
  },
  {
   "cell_type": "code",
   "execution_count": 11,
   "id": "8e4fd20b-4783-4cad-9311-8405e9e26976",
   "metadata": {
    "tags": []
   },
   "outputs": [
    {
     "name": "stdout",
     "output_type": "stream",
     "text": [
      " Why did the scarecrow win an award?\n",
      "Because he was outstanding in his field!\n"
     ]
    }
   ],
   "source": [
    "#PaLM 2 for Text\n",
    "palm = VertexAI(model_name=\"text-bison\", max_output_tokens=1000, temperature=0.3)\n",
    "question = \"Tell me a joke\"\n",
    "print(palm.invoke(question))"
   ]
  },
  {
   "cell_type": "markdown",
   "id": "d554de83-1134-4e52-9644-3145791d7574",
   "metadata": {},
   "source": [
    "## Multimodal (Text with Image)"
   ]
  },
  {
   "cell_type": "code",
   "execution_count": 13,
   "id": "332b1588-b9d6-48bf-98e0-b3309cc6f692",
   "metadata": {
    "tags": []
   },
   "outputs": [
    {
     "name": "stdout",
     "output_type": "stream",
     "text": [
      " The type of cat is a ginger cat.\n"
     ]
    }
   ],
   "source": [
    "from langchain_core.messages import HumanMessage\n",
    "from langchain_google_vertexai import ChatVertexAI\n",
    "\n",
    "llm = ChatVertexAI(model_name=\"gemini-1.0-pro-vision\")\n",
    "\n",
    "image_message = {\n",
    "    \"type\": \"image_url\",\n",
    "    \"image_url\": {\"url\": \"Abon.jpeg\"},\n",
    "}\n",
    "text_message = {\n",
    "    \"type\": \"text\",\n",
    "    \"text\": \"What is the type of cat?\",\n",
    "}\n",
    "message = HumanMessage(content=[text_message, image_message])\n",
    "\n",
    "output = llm([message])\n",
    "print(output.content)"
   ]
  }
 ],
 "metadata": {
  "environment": {
   "kernel": "python_llm",
   "name": "common-cpu.m113",
   "type": "gcloud",
   "uri": "gcr.io/deeplearning-platform-release/base-cpu:m113"
  },
  "kernelspec": {
   "display_name": "Python (python_llm)",
   "language": "python",
   "name": "python_llm"
  },
  "language_info": {
   "codemirror_mode": {
    "name": "ipython",
    "version": 3
   },
   "file_extension": ".py",
   "mimetype": "text/x-python",
   "name": "python",
   "nbconvert_exporter": "python",
   "pygments_lexer": "ipython3",
   "version": "3.10.13"
  }
 },
 "nbformat": 4,
 "nbformat_minor": 5
}
